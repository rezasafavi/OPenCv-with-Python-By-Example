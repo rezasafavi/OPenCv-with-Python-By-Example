{
 "cells": [
  {
   "cell_type": "markdown",
   "id": "bf59e399",
   "metadata": {},
   "source": [
    "# Reading, displaying, and saving images"
   ]
  },
  {
   "cell_type": "code",
   "execution_count": 3,
   "id": "2b77de57",
   "metadata": {},
   "outputs": [],
   "source": [
    "import cv2\n",
    "import numpy as np\n"
   ]
  },
  {
   "cell_type": "code",
   "execution_count": 10,
   "id": "1a50a468",
   "metadata": {},
   "outputs": [
    {
     "data": {
      "text/plain": [
       "-1"
      ]
     },
     "execution_count": 10,
     "metadata": {},
     "output_type": "execute_result"
    }
   ],
   "source": [
    "img = cv2.imread(\"BingWallpaper (1).jpg\")\n",
    "cv2.imshow(\"input image\",img)\n",
    "cv2.waitKey()"
   ]
  },
  {
   "cell_type": "code",
   "execution_count": 11,
   "id": "eee190cc",
   "metadata": {},
   "outputs": [
    {
     "data": {
      "text/plain": [
       "-1"
      ]
     },
     "execution_count": 11,
     "metadata": {},
     "output_type": "execute_result"
    }
   ],
   "source": [
    "gray_img = cv2.imread(\"BingWallpaper (1).jpg\" , cv2.IMREAD_GRAYSCALE)\n",
    "cv2.imshow(\"Grayscale\",gray_img)\n",
    "cv2.waitKey()"
   ]
  },
  {
   "cell_type": "markdown",
   "id": "9af90c2e",
   "metadata": {},
   "source": [
    "# Converting between color spaces"
   ]
  },
  {
   "cell_type": "code",
   "execution_count": 18,
   "id": "13296cd8",
   "metadata": {},
   "outputs": [
    {
     "data": {
      "text/plain": [
       "-1"
      ]
     },
     "execution_count": 18,
     "metadata": {},
     "output_type": "execute_result"
    }
   ],
   "source": [
    "img = cv2.imread(\"BingWallpaper (1).jpg\")\n",
    "gray_img = cv2.cvtColor(img, cv2.COLOR_BGR2GRAY)\n",
    "cv2.imshow('Grayscale image',gray_img)\n",
    "cv2.waitKey()"
   ]
  },
  {
   "cell_type": "code",
   "execution_count": 3,
   "id": "bc0582b5",
   "metadata": {},
   "outputs": [
    {
     "data": {
      "text/plain": [
       "-1"
      ]
     },
     "execution_count": 3,
     "metadata": {},
     "output_type": "execute_result"
    }
   ],
   "source": [
    "img = cv2.imread(\"BingWallpaper (1).jpg\")\n",
    "yuv_img = cv2.cvtColor(img, cv2.COLOR_BGR2YUV)\n",
    "cv2.imshow('Grayscale image',yuv_img)\n",
    "cv2.waitKey()"
   ]
  },
  {
   "cell_type": "code",
   "execution_count": 4,
   "id": "db6e41c9",
   "metadata": {},
   "outputs": [
    {
     "data": {
      "text/plain": [
       "-1"
      ]
     },
     "execution_count": 4,
     "metadata": {},
     "output_type": "execute_result"
    }
   ],
   "source": [
    "img = cv2.imread(\"BingWallpaper (1).jpg\")\n",
    "yuv_img = cv2.cvtColor(img, cv2.COLOR_BGR2YUV)\n",
    "cv2.imshow('Y channel ',yuv_img[:,:,0])\n",
    "cv2.imshow('U channel ',yuv_img[:,:,1])\n",
    "cv2.imshow('V channel ',yuv_img[:,:,2])\n",
    "cv2.waitKey()"
   ]
  },
  {
   "cell_type": "code",
   "execution_count": 5,
   "id": "ed76f22c",
   "metadata": {},
   "outputs": [
    {
     "data": {
      "text/plain": [
       "-1"
      ]
     },
     "execution_count": 5,
     "metadata": {},
     "output_type": "execute_result"
    }
   ],
   "source": [
    "img = cv2.imread(\"BingWallpaper (1).jpg\")\n",
    "hsv_img = cv2.cvtColor(img, cv2.COLOR_BGR2HSV)\n",
    "cv2.imshow('Grayscale image',hsv_img)\n",
    "cv2.waitKey()"
   ]
  },
  {
   "cell_type": "code",
   "execution_count": 6,
   "id": "71ead2a2",
   "metadata": {},
   "outputs": [
    {
     "data": {
      "text/plain": [
       "-1"
      ]
     },
     "execution_count": 6,
     "metadata": {},
     "output_type": "execute_result"
    }
   ],
   "source": [
    "img = cv2.imread(\"BingWallpaper (1).jpg\")\n",
    "hsv_img = cv2.cvtColor(img, cv2.COLOR_BGR2HSV)\n",
    "cv2.imshow('H channel ',hsv_img[:,:,0])\n",
    "cv2.imshow('S channel ',hsv_img[:,:,1])\n",
    "cv2.imshow('V channel ',hsv_img[:,:,2])\n",
    "cv2.waitKey()"
   ]
  },
  {
   "cell_type": "markdown",
   "id": "f8c6cb3d",
   "metadata": {},
   "source": [
    "# Image rotation"
   ]
  },
  {
   "cell_type": "code",
   "execution_count": 10,
   "id": "cc169d01",
   "metadata": {},
   "outputs": [
    {
     "data": {
      "text/plain": [
       "-1"
      ]
     },
     "execution_count": 10,
     "metadata": {},
     "output_type": "execute_result"
    }
   ],
   "source": [
    "img =cv2.imread(\"BingWallpaper (1).jpg\")\n",
    "num_rows , num_cols = img.shape[:2]\n",
    "\n",
    "rotation_matrix = cv2.getRotationMatrix2D((num_cols/2,num_rows/2),30,1)\n",
    "img_rotation = cv2.warpAffine(img,rotation_matrix,(num_cols,num_rows))\n",
    "cv2.imshow(\"Rotation\",img_rotation)\n",
    "cv2.waitKey()"
   ]
  },
  {
   "cell_type": "markdown",
   "id": "281428d3",
   "metadata": {},
   "source": [
    "# Image translation"
   ]
  },
  {
   "cell_type": "code",
   "execution_count": 4,
   "id": "d1e4bd28",
   "metadata": {},
   "outputs": [
    {
     "data": {
      "text/plain": [
       "<function waitKey>"
      ]
     },
     "execution_count": 4,
     "metadata": {},
     "output_type": "execute_result"
    }
   ],
   "source": [
    "img =cv2.imread(\"BingWallpaper (1).jpg\")\n",
    "num_rows , num_cols = img.shape[:2]\n",
    "\n",
    "translation_matrix = np.float32([[1,0,70],[0,1,110]])\n",
    "img_translation = cv2.warpAffine(img,translation_matrix,(num_cols,num_rows))\n",
    "\n",
    "cv2.imshow(\"Translation\" , img_translation)\n",
    "cv2.waitKey"
   ]
  },
  {
   "cell_type": "code",
   "execution_count": 4,
   "id": "3e640362",
   "metadata": {},
   "outputs": [
    {
     "data": {
      "text/plain": [
       "<function waitKey>"
      ]
     },
     "execution_count": 4,
     "metadata": {},
     "output_type": "execute_result"
    }
   ],
   "source": [
    "img =cv2.imread(\"BingWallpaper (1).jpg\")\n",
    "num_rows , num_cols = img.shape[:2]\n",
    "\n",
    "translation_matrix = np.float32([[1,0,70],[0,1,110]])\n",
    "img_translation = cv2.warpAffine(img,translation_matrix,(num_cols + 70,num_rows + 110))\n",
    "\n",
    "translation_matrix = np.float32([[1,0,-30],[0,1,-50]])\n",
    "img_translation = cv2.warpAffine(img,translation_matrix,(num_cols + 70 + 30,num_rows + 110 + 50))\n",
    "\n",
    "cv2.imshow(\"Translation\" , img_translation)\n",
    "cv2.waitKey"
   ]
  },
  {
   "cell_type": "code",
   "execution_count": null,
   "id": "ef1a9fe5",
   "metadata": {},
   "outputs": [],
   "source": []
  }
 ],
 "metadata": {
  "kernelspec": {
   "display_name": "Python 3 (ipykernel)",
   "language": "python",
   "name": "python3"
  },
  "language_info": {
   "codemirror_mode": {
    "name": "ipython",
    "version": 3
   },
   "file_extension": ".py",
   "mimetype": "text/x-python",
   "name": "python",
   "nbconvert_exporter": "python",
   "pygments_lexer": "ipython3",
   "version": "3.10.0"
  }
 },
 "nbformat": 4,
 "nbformat_minor": 5
}
