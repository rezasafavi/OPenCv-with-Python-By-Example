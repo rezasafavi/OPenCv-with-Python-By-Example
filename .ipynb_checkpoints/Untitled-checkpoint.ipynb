{
 "cells": [
  {
   "cell_type": "markdown",
   "id": "bf59e399",
   "metadata": {},
   "source": [
    "# Reading, displaying, and saving images"
   ]
  },
  {
   "cell_type": "code",
   "execution_count": 2,
   "id": "2b77de57",
   "metadata": {},
   "outputs": [],
   "source": [
    "import cv2\n",
    "import numpy as np\n",
    "import math\n"
   ]
  },
  {
   "cell_type": "code",
   "execution_count": 10,
   "id": "1a50a468",
   "metadata": {},
   "outputs": [
    {
     "data": {
      "text/plain": [
       "-1"
      ]
     },
     "execution_count": 10,
     "metadata": {},
     "output_type": "execute_result"
    }
   ],
   "source": [
    "img = cv2.imread(\"BingWallpaper (1).jpg\")\n",
    "cv2.imshow(\"input image\",img)\n",
    "cv2.waitKey()"
   ]
  },
  {
   "cell_type": "code",
   "execution_count": 11,
   "id": "eee190cc",
   "metadata": {},
   "outputs": [
    {
     "data": {
      "text/plain": [
       "-1"
      ]
     },
     "execution_count": 11,
     "metadata": {},
     "output_type": "execute_result"
    }
   ],
   "source": [
    "gray_img = cv2.imread(\"BingWallpaper (1).jpg\" , cv2.IMREAD_GRAYSCALE)\n",
    "cv2.imshow(\"Grayscale\",gray_img)\n",
    "cv2.waitKey()"
   ]
  },
  {
   "cell_type": "markdown",
   "id": "9af90c2e",
   "metadata": {},
   "source": [
    "# Converting between color spaces"
   ]
  },
  {
   "cell_type": "code",
   "execution_count": 18,
   "id": "13296cd8",
   "metadata": {},
   "outputs": [
    {
     "data": {
      "text/plain": [
       "-1"
      ]
     },
     "execution_count": 18,
     "metadata": {},
     "output_type": "execute_result"
    }
   ],
   "source": [
    "img = cv2.imread(\"BingWallpaper (1).jpg\")\n",
    "gray_img = cv2.cvtColor(img, cv2.COLOR_BGR2GRAY)\n",
    "cv2.imshow('Grayscale image',gray_img)\n",
    "cv2.waitKey()"
   ]
  },
  {
   "cell_type": "code",
   "execution_count": 3,
   "id": "bc0582b5",
   "metadata": {},
   "outputs": [
    {
     "data": {
      "text/plain": [
       "-1"
      ]
     },
     "execution_count": 3,
     "metadata": {},
     "output_type": "execute_result"
    }
   ],
   "source": [
    "img = cv2.imread(\"BingWallpaper (1).jpg\")\n",
    "yuv_img = cv2.cvtColor(img, cv2.COLOR_BGR2YUV)\n",
    "cv2.imshow('Grayscale image',yuv_img)\n",
    "cv2.waitKey()"
   ]
  },
  {
   "cell_type": "code",
   "execution_count": 4,
   "id": "db6e41c9",
   "metadata": {},
   "outputs": [
    {
     "data": {
      "text/plain": [
       "-1"
      ]
     },
     "execution_count": 4,
     "metadata": {},
     "output_type": "execute_result"
    }
   ],
   "source": [
    "img = cv2.imread(\"BingWallpaper (1).jpg\")\n",
    "yuv_img = cv2.cvtColor(img, cv2.COLOR_BGR2YUV)\n",
    "cv2.imshow('Y channel ',yuv_img[:,:,0])\n",
    "cv2.imshow('U channel ',yuv_img[:,:,1])\n",
    "cv2.imshow('V channel ',yuv_img[:,:,2])\n",
    "cv2.waitKey()"
   ]
  },
  {
   "cell_type": "code",
   "execution_count": 5,
   "id": "ed76f22c",
   "metadata": {},
   "outputs": [
    {
     "data": {
      "text/plain": [
       "-1"
      ]
     },
     "execution_count": 5,
     "metadata": {},
     "output_type": "execute_result"
    }
   ],
   "source": [
    "img = cv2.imread(\"BingWallpaper (1).jpg\")\n",
    "hsv_img = cv2.cvtColor(img, cv2.COLOR_BGR2HSV)\n",
    "cv2.imshow('Grayscale image',hsv_img)\n",
    "cv2.waitKey()"
   ]
  },
  {
   "cell_type": "code",
   "execution_count": 6,
   "id": "71ead2a2",
   "metadata": {},
   "outputs": [
    {
     "data": {
      "text/plain": [
       "-1"
      ]
     },
     "execution_count": 6,
     "metadata": {},
     "output_type": "execute_result"
    }
   ],
   "source": [
    "img = cv2.imread(\"BingWallpaper (1).jpg\")\n",
    "hsv_img = cv2.cvtColor(img, cv2.COLOR_BGR2HSV)\n",
    "cv2.imshow('H channel ',hsv_img[:,:,0])\n",
    "cv2.imshow('S channel ',hsv_img[:,:,1])\n",
    "cv2.imshow('V channel ',hsv_img[:,:,2])\n",
    "cv2.waitKey()"
   ]
  },
  {
   "cell_type": "markdown",
   "id": "f8c6cb3d",
   "metadata": {},
   "source": [
    "# Image rotation"
   ]
  },
  {
   "cell_type": "code",
   "execution_count": 10,
   "id": "cc169d01",
   "metadata": {},
   "outputs": [
    {
     "data": {
      "text/plain": [
       "-1"
      ]
     },
     "execution_count": 10,
     "metadata": {},
     "output_type": "execute_result"
    }
   ],
   "source": [
    "img =cv2.imread(\"BingWallpaper (1).jpg\")\n",
    "num_rows , num_cols = img.shape[:2]\n",
    "\n",
    "rotation_matrix = cv2.getRotationMatrix2D((num_cols/2,num_rows/2),30,1)\n",
    "img_rotation = cv2.warpAffine(img,rotation_matrix,(num_cols,num_rows))\n",
    "cv2.imshow(\"Rotation\",img_rotation)\n",
    "cv2.waitKey()"
   ]
  },
  {
   "cell_type": "markdown",
   "id": "281428d3",
   "metadata": {},
   "source": [
    "# Image translation"
   ]
  },
  {
   "cell_type": "code",
   "execution_count": 4,
   "id": "d1e4bd28",
   "metadata": {},
   "outputs": [
    {
     "data": {
      "text/plain": [
       "<function waitKey>"
      ]
     },
     "execution_count": 4,
     "metadata": {},
     "output_type": "execute_result"
    }
   ],
   "source": [
    "img =cv2.imread(\"BingWallpaper (1).jpg\")\n",
    "num_rows , num_cols = img.shape[:2]\n",
    "\n",
    "translation_matrix = np.float32([[1,0,70],[0,1,110]])\n",
    "img_translation = cv2.warpAffine(img,translation_matrix,(num_cols,num_rows))\n",
    "\n",
    "cv2.imshow(\"Translation\" , img_translation)\n",
    "cv2.waitKey"
   ]
  },
  {
   "cell_type": "code",
   "execution_count": 4,
   "id": "3e640362",
   "metadata": {},
   "outputs": [
    {
     "data": {
      "text/plain": [
       "<function waitKey>"
      ]
     },
     "execution_count": 4,
     "metadata": {},
     "output_type": "execute_result"
    }
   ],
   "source": [
    "img =cv2.imread(\"BingWallpaper (1).jpg\")\n",
    "num_rows , num_cols = img.shape[:2]\n",
    "\n",
    "translation_matrix = np.float32([[1,0,70],[0,1,110]])\n",
    "img_translation = cv2.warpAffine(img,translation_matrix,(num_cols + 70,num_rows + 110))\n",
    "\n",
    "translation_matrix = np.float32([[1,0,-30],[0,1,-50]])\n",
    "img_translation = cv2.warpAffine(img,translation_matrix,(num_cols + 70 + 30,num_rows + 110 + 50))\n",
    "\n",
    "cv2.imshow(\"Translation\" , img_translation)\n",
    "cv2.waitKey"
   ]
  },
  {
   "cell_type": "markdown",
   "id": "1c9fd5d9",
   "metadata": {},
   "source": [
    "# Image scaling"
   ]
  },
  {
   "cell_type": "code",
   "execution_count": 3,
   "id": "dabc9369",
   "metadata": {},
   "outputs": [
    {
     "data": {
      "text/plain": [
       "-1"
      ]
     },
     "execution_count": 3,
     "metadata": {},
     "output_type": "execute_result"
    }
   ],
   "source": [
    "img =cv2.imread(\"BingWallpaper (1).jpg\")\n",
    "img_scaled = cv2.resize(img,None,fx=1.2,fy=1.2,interpolation = cv2.INTER_LINEAR)\n",
    "cv2.imshow('Scaling - Linear Interpolation' ,img_scaled)\n",
    "img_scaled = cv2.resize(img,None,fx=1.2,fy=1.2,interpolation =cv2.INTER_CUBIC)\n",
    "cv2.imshow('Scaling - Cubic Interploatayion', img_scaled)\n",
    "img_scaled = cv2.resize(img,None,fx=1.2,fy=1.2,interpolation =cv2.INTER_AREA)\n",
    "cv2.imshow('Scaling - Area Interpolation', img_scaled)\n",
    "cv2.imshow('Scaling - Skewed Size', img_scaled)\n",
    "cv2.waitKey()"
   ]
  },
  {
   "cell_type": "markdown",
   "id": "a125d5b4",
   "metadata": {},
   "source": [
    "# Image warping"
   ]
  },
  {
   "cell_type": "code",
   "execution_count": null,
   "id": "a1ef7baa",
   "metadata": {},
   "outputs": [],
   "source": [
    "img = cv2.imread(\"BingWallpaper (1).jpg\",cv2.IMREAD_GRAYSCALE)\n",
    "rows , cols = img.shape\n",
    "#################################################\n",
    "# Vertical Wave\n",
    "\n",
    "img_output = np.zeros(img.shape,dtype = img.dtype)\n",
    "\n",
    "for i in range(rows):\n",
    "    for j in range(cols):\n",
    "        offset_x = int(25.0*math.sin(2*3.14*i/180))\n",
    "        offset_y = 0\n",
    "        if j+offset_x < rows:\n",
    "            img_output[i,j] = img[i,(j+offset_x)%cols]\n",
    "        else: \n",
    "            img_output[i,j] = 0\n",
    "cv2.imshow('Innput' , img)\n",
    "cv2.imshow('Vertical Wave' , img_output)\n",
    "\n",
    "\n",
    "################################################\n",
    "# Horzintal Wave\n",
    "\n",
    "img_output = np.zeros(img.shape,dtype = img.dtype)\n",
    "\n",
    "for i in range(rows):\n",
    "    for j in range(cols):\n",
    "        offset_x=0\n",
    "        offset_y=int(16.0 * math.sin(2*3.14*j/150))\n",
    "        if i+offset_y <rows:\n",
    "            img_output[i,j] = img[(i+offset_y)%rows,j]\n",
    "        else:\n",
    "            img_output[i,j] = 0\n",
    "cv2.imshow('Horzintal Wave',img_output)\n",
    "\n",
    "################################################\n",
    "# Both horzintal and vertical\n",
    "\n",
    "img_output = np.zeros(img.shape,dtype=img.dtype)\n",
    "\n",
    "for i in range(rows):\n",
    "    for j in range(cols):\n",
    "        offset_x = int(20.0*math.sin(2*3.14*i/150))\n",
    "        offset_y = int(20.0*math.cos(2*3.14*j/150))\n",
    "        if i-offset_y < rows and j+offset_x < cols:\n",
    "            img_output[i,j] = img[(i+offset_y)%rows , (j+offset_x)%cols]\n",
    "        else:\n",
    "            img_output[i,j] = 0\n",
    "cv2.imshow('Multidirectional Wave'  ,img_output)\n",
    "\n",
    "##################################################\n",
    "# Concave effect \n",
    "\n",
    "img_output = np.zeros(img.shape,dtype = img.dtype)\n",
    "\n",
    "for i in range(rows):\n",
    "    for j in range(cols):\n",
    "        offset_x = int(128.0*math.sin(2*3.14*i/(2*cols)))\n",
    "        offset_y = 0\n",
    "        if j+offset_x < cols:\n",
    "            img_output[i,j] = img[i,(j+offset_x)%cols]\n",
    "        else: \n",
    "            img_output[i,j] = 0\n",
    "            \n",
    "cv2.imshow('Concave' , img_output)"
   ]
  },
  {
   "cell_type": "markdown",
   "id": "2e972390",
   "metadata": {},
   "source": [
    "# Detecting Edges and Applying Image Filters"
   ]
  },
  {
   "cell_type": "markdown",
   "id": "6d2c59d2",
   "metadata": {},
   "source": [
    "# Blurring"
   ]
  },
  {
   "cell_type": "code",
   "execution_count": 6,
   "id": "e1bd0cb9",
   "metadata": {},
   "outputs": [
    {
     "data": {
      "text/plain": [
       "-1"
      ]
     },
     "execution_count": 6,
     "metadata": {},
     "output_type": "execute_result"
    }
   ],
   "source": [
    "import cv2\n",
    "import numpy as np\n",
    "import math\n",
    "img = cv2.imread(\"BingWallpaper (1).jpg\")\n",
    "rows, cols = img.shape[:2]\n",
    "\n",
    "kernel_identity = np.array([[0,0,0], [0,1,0], [0,0,0]])\n",
    "kernel_3x3 = np.ones((3,3), np.float32) / 9.0\n",
    "kernel_5x5 = np.ones((5,5), np.float32) / 25.0\n",
    "\n",
    "cv2.imshow('Original', img)\n",
    "\n",
    "output = cv2.filter2D(img, -1, kernel_identity)\n",
    "cv2.imshow('Identity filter', output)\n",
    "\n",
    "output = cv2.filter2D(img, -1, kernel_3x3)\n",
    "cv2.imshow('3x3 filter', output)\n",
    "\n",
    "output = cv2.filter2D(img, -1, kernel_5x5)\n",
    "cv2.imshow('5x5 filter', output)\n",
    "cv2.waitKey(0)"
   ]
  },
  {
   "cell_type": "markdown",
   "id": "ffed60d0",
   "metadata": {},
   "source": [
    "# Edge detection"
   ]
  },
  {
   "cell_type": "code",
   "execution_count": 7,
   "id": "50a4a094",
   "metadata": {},
   "outputs": [
    {
     "data": {
      "text/plain": [
       "-1"
      ]
     },
     "execution_count": 7,
     "metadata": {},
     "output_type": "execute_result"
    }
   ],
   "source": [
    "import cv2\n",
    "import numpy as np\n",
    "\n",
    "img = cv2.imread(\"BingWallpaper (1).jpg\", cv2.IMREAD_GRAYSCALE)\n",
    "rows, cols = img.shape\n",
    "\n",
    "sobel_horizontal = cv2.Sobel(img, cv2.CV_64F, 1, 0, ksize=5)\n",
    "sobel_vertical = cv2.Sobel(img, cv2.CV_64F, 0, 1, ksize=5)\n",
    "\n",
    "cv2.imshow('Original', img)\n",
    "cv2.imshow('Sobel horizontal', sobel_horizontal)\n",
    "cv2.imshow('Sobel vertical', sobel_vertical)\n",
    "\n",
    "cv2.waitKey(0)"
   ]
  },
  {
   "cell_type": "markdown",
   "id": "2b55f3d6",
   "metadata": {},
   "source": [
    "# Motion blur"
   ]
  },
  {
   "cell_type": "code",
   "execution_count": 8,
   "id": "0c976ce8",
   "metadata": {},
   "outputs": [
    {
     "data": {
      "text/plain": [
       "-1"
      ]
     },
     "execution_count": 8,
     "metadata": {},
     "output_type": "execute_result"
    }
   ],
   "source": [
    "import cv2\n",
    "import numpy as np\n",
    "\n",
    "img = cv2.imread(\"BingWallpaper (1).jpg\")\n",
    "cv2.imshow('Original', img)\n",
    "size = 15\n",
    "\n",
    "# generating the kernel\n",
    "kernel_motion_blur = np.zeros((size, size))\n",
    "kernel_motion_blur[int((size-1)/2), :] = np.ones(size)\n",
    "kernel_motion_blur = kernel_motion_blur / size\n",
    "\n",
    "# applying the kernel to the input image\n",
    "output = cv2.filter2D(img, -1, kernel_motion_blur)\n",
    "cv2.imshow('Motion Blur', output)\n",
    "cv2.waitKey(0)"
   ]
  },
  {
   "cell_type": "code",
   "execution_count": null,
   "id": "1b5d13fc",
   "metadata": {},
   "outputs": [],
   "source": []
  }
 ],
 "metadata": {
  "kernelspec": {
   "display_name": "Python 3 (ipykernel)",
   "language": "python",
   "name": "python3"
  },
  "language_info": {
   "codemirror_mode": {
    "name": "ipython",
    "version": 3
   },
   "file_extension": ".py",
   "mimetype": "text/x-python",
   "name": "python",
   "nbconvert_exporter": "python",
   "pygments_lexer": "ipython3",
   "version": "3.10.0"
  }
 },
 "nbformat": 4,
 "nbformat_minor": 5
}
